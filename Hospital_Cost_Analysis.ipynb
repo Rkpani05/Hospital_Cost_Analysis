{
 "cells": [
  {
   "cell_type": "markdown",
   "metadata": {},
   "source": [
    "# Hospital Cost Analysis"
   ]
  },
  {
   "cell_type": "code",
   "execution_count": 1,
   "metadata": {},
   "outputs": [],
   "source": [
    "# Importing Libraries\n",
    "import pandas as pd\n",
    "import matplotlib.pyplot as plt\n",
    "import seaborn as sns\n",
    "import sqlite3"
   ]
  },
  {
   "cell_type": "markdown",
   "metadata": {},
   "source": [
    "### 1. Load the xls files in the notebook as a dataframe"
   ]
  },
  {
   "cell_type": "code",
   "execution_count": 2,
   "metadata": {},
   "outputs": [],
   "source": [
    "# Loading xls file into a dataframe\n",
    "file_path = \"Rates_DF.xls\"  \n",
    "df = pd.read_excel(file_path)"
   ]
  },
  {
   "cell_type": "code",
   "execution_count": 3,
   "metadata": {},
   "outputs": [
    {
     "data": {
      "text/html": [
       "<div>\n",
       "<style scoped>\n",
       "    .dataframe tbody tr th:only-of-type {\n",
       "        vertical-align: middle;\n",
       "    }\n",
       "\n",
       "    .dataframe tbody tr th {\n",
       "        vertical-align: top;\n",
       "    }\n",
       "\n",
       "    .dataframe thead th {\n",
       "        text-align: right;\n",
       "    }\n",
       "</style>\n",
       "<table border=\"1\" class=\"dataframe\">\n",
       "  <thead>\n",
       "    <tr style=\"text-align: right;\">\n",
       "      <th></th>\n",
       "      <th>service_code</th>\n",
       "      <th>service_code_description</th>\n",
       "      <th>hospital_ID</th>\n",
       "      <th>cost</th>\n",
       "    </tr>\n",
       "  </thead>\n",
       "  <tbody>\n",
       "    <tr>\n",
       "      <th>0</th>\n",
       "      <td>29870</td>\n",
       "      <td>Knee surgery</td>\n",
       "      <td>1003820630</td>\n",
       "      <td>1432.34</td>\n",
       "    </tr>\n",
       "    <tr>\n",
       "      <th>1</th>\n",
       "      <td>29870</td>\n",
       "      <td>Knee surgery</td>\n",
       "      <td>1003820630</td>\n",
       "      <td>1016.51</td>\n",
       "    </tr>\n",
       "    <tr>\n",
       "      <th>2</th>\n",
       "      <td>29850</td>\n",
       "      <td>Hip Surgery</td>\n",
       "      <td>1003820630</td>\n",
       "      <td>1519.18</td>\n",
       "    </tr>\n",
       "    <tr>\n",
       "      <th>3</th>\n",
       "      <td>29850</td>\n",
       "      <td>Hip Surgery</td>\n",
       "      <td>1003820630</td>\n",
       "      <td>1519.18</td>\n",
       "    </tr>\n",
       "    <tr>\n",
       "      <th>4</th>\n",
       "      <td>22818</td>\n",
       "      <td>Covid Vaccine</td>\n",
       "      <td>1003820630</td>\n",
       "      <td>5402.73</td>\n",
       "    </tr>\n",
       "  </tbody>\n",
       "</table>\n",
       "</div>"
      ],
      "text/plain": [
       "   service_code service_code_description hospital_ID     cost\n",
       "0         29870             Knee surgery  1003820630  1432.34\n",
       "1         29870             Knee surgery  1003820630  1016.51\n",
       "2         29850              Hip Surgery  1003820630  1519.18\n",
       "3         29850              Hip Surgery  1003820630  1519.18\n",
       "4         22818            Covid Vaccine  1003820630  5402.73"
      ]
     },
     "execution_count": 3,
     "metadata": {},
     "output_type": "execute_result"
    }
   ],
   "source": [
    "# Displaying first few rows for data exploration\n",
    "df.head()"
   ]
  },
  {
   "cell_type": "markdown",
   "metadata": {},
   "source": [
    "### 2. Data Exploration and Cleaning"
   ]
  },
  {
   "cell_type": "code",
   "execution_count": 4,
   "metadata": {},
   "outputs": [
    {
     "name": "stdout",
     "output_type": "stream",
     "text": [
      "service_code                  int64\n",
      "service_code_description     object\n",
      "hospital_ID                  object\n",
      "cost                        float64\n",
      "dtype: object\n"
     ]
    }
   ],
   "source": [
    "# Checking data types\n",
    "print(df.dtypes)"
   ]
  },
  {
   "cell_type": "code",
   "execution_count": 5,
   "metadata": {},
   "outputs": [
    {
     "name": "stdout",
     "output_type": "stream",
     "text": [
      "Number of duplicate rows: 4595\n"
     ]
    }
   ],
   "source": [
    "# Checking for duplicates\n",
    "print(\"Number of duplicate rows:\", df.duplicated().sum())"
   ]
  },
  {
   "cell_type": "code",
   "execution_count": 6,
   "metadata": {},
   "outputs": [],
   "source": [
    "# Removing duplicates\n",
    "df = df.drop_duplicates()"
   ]
  },
  {
   "cell_type": "code",
   "execution_count": 7,
   "metadata": {},
   "outputs": [
    {
     "name": "stdout",
     "output_type": "stream",
     "text": [
      "service_code                0\n",
      "service_code_description    0\n",
      "hospital_ID                 0\n",
      "cost                        0\n",
      "dtype: int64\n"
     ]
    }
   ],
   "source": [
    "# Checking for missing values\n",
    "print(df.isnull().sum())"
   ]
  },
  {
   "cell_type": "code",
   "execution_count": 8,
   "metadata": {},
   "outputs": [
    {
     "name": "stdout",
     "output_type": "stream",
     "text": [
      "       service_code          cost\n",
      "count   6159.000000   6159.000000\n",
      "mean   27760.093197   1630.088410\n",
      "std     3223.503907   1542.129966\n",
      "min    22818.000000    351.220000\n",
      "25%    22818.000000    669.590000\n",
      "50%    29850.000000    971.790000\n",
      "75%    29870.000000   2452.160000\n",
      "max    29870.000000  20843.360000\n"
     ]
    }
   ],
   "source": [
    "# Descriptive statistics\n",
    "print(df.describe())"
   ]
  },
  {
   "cell_type": "code",
   "execution_count": 9,
   "metadata": {},
   "outputs": [
    {
     "name": "stdout",
     "output_type": "stream",
     "text": [
      "Number of outliers: 293\n"
     ]
    }
   ],
   "source": [
    "# Calculating the first quartile (Q1) of the 'cost' column\n",
    "Q1 = df['cost'].quantile(0.25)\n",
    "\n",
    "# Calculating the third quartile (Q3) of the 'cost' column\n",
    "Q3 = df['cost'].quantile(0.75)\n",
    "\n",
    "# Computing the Interquartile Range (IQR) which is the difference between Q3 and Q1\n",
    "IQR = Q3 - Q1\n",
    "\n",
    "# Identifying outliers:\n",
    "# Outliers are defined as values that fall below (Q1 - 1.5*IQR) or above (Q3 + 1.5*IQR)\n",
    "outliers = df[(df['cost'] < (Q1 - 1.5 * IQR)) | (df['cost'] > (Q3 + 1.5 * IQR))]\n",
    "\n",
    "# Printing the number of detected outliers\n",
    "print(\"Number of outliers:\", len(outliers))\n"
   ]
  },
  {
   "cell_type": "markdown",
   "metadata": {},
   "source": [
    "### 3. Visualization"
   ]
  },
  {
   "cell_type": "code",
   "execution_count": 10,
   "metadata": {},
   "outputs": [
    {
     "data": {
      "image/png": "[encoded data removed]",
      "text/plain": [
       "<Figure size 1000x600 with 1 Axes>"
      ]
     },
     "metadata": {},
     "output_type": "display_data"
    }
   ],
   "source": [
    "# setting seaborn visualisation\n",
    "sns.set_style(\"whitegrid\")\n",
    "\n",
    "# Ploting the histogram with KDE\n",
    "plt.figure(figsize=(10, 6))\n",
    "sns.histplot(df['cost'], bins=30, kde=True, color='skyblue', edgecolor='black')\n",
    "\n",
    "# Calculating mean and median\n",
    "mean = df['cost'].mean()\n",
    "median = df['cost'].median()\n",
    "\n",
    "# Adding lines for mean and median\n",
    "plt.axvline(mean, color='r', linestyle='--')\n",
    "plt.axvline(median, color='g', linestyle='-')\n",
    "\n",
    "# Adding annotations for mean and median\n",
    "plt.text(mean+2, plt.ylim()[1]*0.9, 'Mean: {:.2f}'.format(mean), color='r')\n",
    "plt.text(median-15, plt.ylim()[1]*0.8, 'Median: {:.2f}'.format(median), color='g')\n",
    "\n",
    "# Set title and labels\n",
    "plt.title('Distribution of Costs')\n",
    "plt.xlabel('Cost')\n",
    "plt.ylabel('Frequency')\n",
    "plt.show()\n"
   ]
  },
  {
   "cell_type": "markdown",
   "metadata": {},
   "source": [
    "### 4. Ranking Function"
   ]
  },
  {
   "cell_type": "code",
   "execution_count": 11,
   "metadata": {},
   "outputs": [
    {
     "name": "stdout",
     "output_type": "stream",
     "text": [
      "Cheapest Hospitals:\n",
      "              service_code_description hospital_ID     cost\n",
      "service_code                                              \n",
      "22818                   Covid Vaccine  27-1145142  1875.90\n",
      "29850                     Hip Surgery  20-8075502   470.02\n",
      "29870                    Knee surgery  20-8075502   351.22\n",
      "\n",
      "->->->->->->->->->->->->->->->->->->->->->->->->->->->->->->\n",
      "\n",
      "Costliest Hospitals:\n",
      "              service_code_description hospital_ID      cost\n",
      "service_code                                               \n",
      "22818                   Covid Vaccine  26-2045908  20843.36\n",
      "29850                     Hip Surgery  26-2045908   6074.44\n",
      "29870                    Knee surgery  26-2045908   5691.52\n"
     ]
    }
   ],
   "source": [
    "def rank_hospitals(df):\n",
    "    \n",
    "    \"\"\"\n",
    "    Ranks hospitals based on the cost for each service code.\n",
    "    \n",
    "    Parameters:\n",
    "    - df (DataFrame): The input dataframe containing hospital data.\n",
    "    \n",
    "    Returns:\n",
    "    - cheapest_hospitals (DataFrame): Dataframe containing the cheapest hospitals for each service code.\n",
    "    - costliest_hospitals (DataFrame): Dataframe containing the costliest hospitals for each service code.\n",
    "    \"\"\"\n",
    "    \n",
    "    # Sorting the dataframe based on 'service_code' and 'cost' columns\n",
    "    df_sorted = df.sort_values(by=['service_code', 'cost'])\n",
    "    \n",
    "    # Grouping by 'service_code' and getting the first entry for the cheapest hospital\n",
    "    cheapest_hospitals = df_sorted.groupby('service_code').first()\n",
    "    \n",
    "    # Grouping by 'service_code' and getting the last entry for the costliest hospital\n",
    "    costliest_hospitals = df_sorted.groupby('service_code').last()\n",
    "    \n",
    "    return cheapest_hospitals, costliest_hospitals\n",
    "\n",
    "# Calling the rank_hospitals function to get the cheapest and costliest hospitals\n",
    "cheapest, costliest = rank_hospitals(df)\n",
    "\n",
    "# Printing the results\n",
    "print(\"Cheapest Hospitals:\\n\", cheapest)\n",
    "print(\"\\n->->->->->->->->->->->->->->->->->->->->->->->->->->->->->->\")\n",
    "print(\"\\nCostliest Hospitals:\\n\", costliest)\n"
   ]
  },
  {
   "cell_type": "markdown",
   "metadata": {},
   "source": [
    "### 5. SQLite Database Operations"
   ]
  },
  {
   "cell_type": "code",
   "execution_count": 12,
   "metadata": {},
   "outputs": [
    {
     "name": "stdout",
     "output_type": "stream",
     "text": [
      "   service_code service_code_description hospital_ID     cost\n",
      "0         29870             Knee surgery  1003820630  1432.34\n",
      "1         29870             Knee surgery  1003820630  1016.51\n",
      "2         29850              Hip Surgery  1003820630  1519.18\n",
      "3         22818            Covid Vaccine  1003820630  5402.73\n",
      "4         29870             Knee surgery  1013970078  1432.34\n"
     ]
    }
   ],
   "source": [
    "# Creating a new SQLite database\n",
    "conn = sqlite3.connect('hospital_data.db')\n",
    "\n",
    "# Loading the dataframe into the SQLite database\n",
    "df.to_sql('hospital_data', conn, if_exists='replace', index=False)\n",
    "\n",
    "# Fetching data from the database to ensure it's stored correctly\n",
    "sample_data = pd.read_sql_query(\"SELECT * FROM hospital_data LIMIT 5\", conn)\n",
    "print(sample_data)\n"
   ]
  },
  {
   "cell_type": "markdown",
   "metadata": {},
   "source": [
    "### 6. SQL Query for Mean and Standard Deviation"
   ]
  },
  {
   "cell_type": "code",
   "execution_count": 13,
   "metadata": {},
   "outputs": [
    {
     "name": "stdout",
     "output_type": "stream",
     "text": [
      "   service_code    Mean_Cost  Std_Deviation\n",
      "0         22818  3402.541164    1709.510988\n",
      "1         29850   965.211716     513.016666\n",
      "2         29870   820.209469     468.551561\n"
     ]
    }
   ],
   "source": [
    "# Defining the SQL query to calculate mean and standard deviation of the cost for each service_code\n",
    "\n",
    "query = \"\"\"\n",
    "WITH MeanCost AS (\n",
    "    SELECT \n",
    "        `service_code`,\n",
    "        AVG(`cost`) as Mean_Cost\n",
    "    FROM \n",
    "        hospital_data\n",
    "    GROUP BY \n",
    "        `service_code`\n",
    "),\n",
    "\n",
    "\n",
    "Variance AS (\n",
    "    SELECT \n",
    "        h.`service_code`,\n",
    "        AVG((h.`cost` - m.Mean_Cost) * (h.`cost` - m.Mean_Cost)) as Var_Cost\n",
    "    FROM \n",
    "        hospital_data h\n",
    "    JOIN \n",
    "        MeanCost m ON h.`service_code` = m.`service_code`\n",
    "    GROUP BY \n",
    "        h.`service_code`\n",
    ")\n",
    "\n",
    "\n",
    "SELECT \n",
    "    m.`service_code`,\n",
    "    m.Mean_Cost,\n",
    "    SQRT(v.Var_Cost) as Std_Deviation\n",
    "FROM \n",
    "    MeanCost m\n",
    "JOIN \n",
    "    Variance v ON m.`service_code` = v.`service_code`\n",
    "\"\"\"\n",
    "\n",
    "# Executing the SQL query and storing the results in the 'results' dataframe\n",
    "results = pd.read_sql_query(query, conn)\n",
    "\n",
    "# Printing the results\n",
    "print(results)\n"
   ]
  },
  {
   "cell_type": "markdown",
   "metadata": {},
   "source": [
    "### 7. Export Results"
   ]
  },
  {
   "cell_type": "code",
   "execution_count": 14,
   "metadata": {},
   "outputs": [],
   "source": [
    "# Exporting ranks to Excel\n",
    "cheapest.to_excel(\"cheapest_hospitals.xlsx\", index=False)\n",
    "costliest.to_excel(\"costliest_hospitals.xlsx\", index=False)\n",
    "\n",
    "# Exporting statistics to Excel\n",
    "results.to_excel(\"statistics.xlsx\", index=False)\n"
   ]
  },
  {
   "cell_type": "markdown",
   "metadata": {},
   "source": [
    "### checking the final results"
   ]
  },
  {
   "cell_type": "code",
   "execution_count": 15,
   "metadata": {},
   "outputs": [
    {
     "data": {
      "text/html": [
       "<div>\n",
       "<style scoped>\n",
       "    .dataframe tbody tr th:only-of-type {\n",
       "        vertical-align: middle;\n",
       "    }\n",
       "\n",
       "    .dataframe tbody tr th {\n",
       "        vertical-align: top;\n",
       "    }\n",
       "\n",
       "    .dataframe thead th {\n",
       "        text-align: right;\n",
       "    }\n",
       "</style>\n",
       "<table border=\"1\" class=\"dataframe\">\n",
       "  <thead>\n",
       "    <tr style=\"text-align: right;\">\n",
       "      <th></th>\n",
       "      <th>service_code_description</th>\n",
       "      <th>hospital_ID</th>\n",
       "      <th>cost</th>\n",
       "    </tr>\n",
       "  </thead>\n",
       "  <tbody>\n",
       "    <tr>\n",
       "      <th>0</th>\n",
       "      <td>Covid Vaccine</td>\n",
       "      <td>27-1145142</td>\n",
       "      <td>1875.90</td>\n",
       "    </tr>\n",
       "    <tr>\n",
       "      <th>1</th>\n",
       "      <td>Hip Surgery</td>\n",
       "      <td>20-8075502</td>\n",
       "      <td>470.02</td>\n",
       "    </tr>\n",
       "    <tr>\n",
       "      <th>2</th>\n",
       "      <td>Knee surgery</td>\n",
       "      <td>20-8075502</td>\n",
       "      <td>351.22</td>\n",
       "    </tr>\n",
       "  </tbody>\n",
       "</table>\n",
       "</div>"
      ],
      "text/plain": [
       "  service_code_description hospital_ID     cost\n",
       "0            Covid Vaccine  27-1145142  1875.90\n",
       "1              Hip Surgery  20-8075502   470.02\n",
       "2             Knee surgery  20-8075502   351.22"
      ]
     },
     "execution_count": 15,
     "metadata": {},
     "output_type": "execute_result"
    }
   ],
   "source": [
    "# Reading the saved cheapest_hospitals Excel file\n",
    "df1 = pd.read_excel(\"cheapest_hospitals.xlsx\")\n",
    "\n",
    "# Displaying the content \n",
    "df1"
   ]
  },
  {
   "cell_type": "code",
   "execution_count": 16,
   "metadata": {},
   "outputs": [
    {
     "data": {
      "text/html": [
       "<div>\n",
       "<style scoped>\n",
       "    .dataframe tbody tr th:only-of-type {\n",
       "        vertical-align: middle;\n",
       "    }\n",
       "\n",
       "    .dataframe tbody tr th {\n",
       "        vertical-align: top;\n",
       "    }\n",
       "\n",
       "    .dataframe thead th {\n",
       "        text-align: right;\n",
       "    }\n",
       "</style>\n",
       "<table border=\"1\" class=\"dataframe\">\n",
       "  <thead>\n",
       "    <tr style=\"text-align: right;\">\n",
       "      <th></th>\n",
       "      <th>service_code_description</th>\n",
       "      <th>hospital_ID</th>\n",
       "      <th>cost</th>\n",
       "    </tr>\n",
       "  </thead>\n",
       "  <tbody>\n",
       "    <tr>\n",
       "      <th>0</th>\n",
       "      <td>Covid Vaccine</td>\n",
       "      <td>26-2045908</td>\n",
       "      <td>20843.36</td>\n",
       "    </tr>\n",
       "    <tr>\n",
       "      <th>1</th>\n",
       "      <td>Hip Surgery</td>\n",
       "      <td>26-2045908</td>\n",
       "      <td>6074.44</td>\n",
       "    </tr>\n",
       "    <tr>\n",
       "      <th>2</th>\n",
       "      <td>Knee surgery</td>\n",
       "      <td>26-2045908</td>\n",
       "      <td>5691.52</td>\n",
       "    </tr>\n",
       "  </tbody>\n",
       "</table>\n",
       "</div>"
      ],
      "text/plain": [
       "  service_code_description hospital_ID      cost\n",
       "0            Covid Vaccine  26-2045908  20843.36\n",
       "1              Hip Surgery  26-2045908   6074.44\n",
       "2             Knee surgery  26-2045908   5691.52"
      ]
     },
     "execution_count": 16,
     "metadata": {},
     "output_type": "execute_result"
    }
   ],
   "source": [
    "# Reading the saved costliest_hospital Excel file\n",
    "df1 = pd.read_excel(\"costliest_hospitals.xlsx\")\n",
    "\n",
    "# Displaying the content \n",
    "df1"
   ]
  },
  {
   "cell_type": "code",
   "execution_count": 17,
   "metadata": {},
   "outputs": [
    {
     "data": {
      "text/html": [
       "<div>\n",
       "<style scoped>\n",
       "    .dataframe tbody tr th:only-of-type {\n",
       "        vertical-align: middle;\n",
       "    }\n",
       "\n",
       "    .dataframe tbody tr th {\n",
       "        vertical-align: top;\n",
       "    }\n",
       "\n",
       "    .dataframe thead th {\n",
       "        text-align: right;\n",
       "    }\n",
       "</style>\n",
       "<table border=\"1\" class=\"dataframe\">\n",
       "  <thead>\n",
       "    <tr style=\"text-align: right;\">\n",
       "      <th></th>\n",
       "      <th>service_code</th>\n",
       "      <th>Mean_Cost</th>\n",
       "      <th>Std_Deviation</th>\n",
       "    </tr>\n",
       "  </thead>\n",
       "  <tbody>\n",
       "    <tr>\n",
       "      <th>0</th>\n",
       "      <td>22818</td>\n",
       "      <td>3402.541164</td>\n",
       "      <td>1709.510988</td>\n",
       "    </tr>\n",
       "    <tr>\n",
       "      <th>1</th>\n",
       "      <td>29850</td>\n",
       "      <td>965.211716</td>\n",
       "      <td>513.016666</td>\n",
       "    </tr>\n",
       "    <tr>\n",
       "      <th>2</th>\n",
       "      <td>29870</td>\n",
       "      <td>820.209469</td>\n",
       "      <td>468.551561</td>\n",
       "    </tr>\n",
       "  </tbody>\n",
       "</table>\n",
       "</div>"
      ],
      "text/plain": [
       "   service_code    Mean_Cost  Std_Deviation\n",
       "0         22818  3402.541164    1709.510988\n",
       "1         29850   965.211716     513.016666\n",
       "2         29870   820.209469     468.551561"
      ]
     },
     "execution_count": 17,
     "metadata": {},
     "output_type": "execute_result"
    }
   ],
   "source": [
    "# Reading the saved statistics Excel file\n",
    "df1 = pd.read_excel(\"statistics.xlsx\")\n",
    "\n",
    "# Displaying the content \n",
    "df1"
   ]
  },
  {
   "cell_type": "markdown",
   "metadata": {},
   "source": [
    "##### Code by :- Rohit Pani"
   ]
  }
 ],
 "metadata": {
  "kernelspec": {
   "display_name": "Python 3",
   "language": "python",
   "name": "python3"
  },
  "language_info": {
   "codemirror_mode": {
    "name": "ipython",
    "version": 3
   },
   "file_extension": ".py",
   "mimetype": "text/x-python",
   "name": "python",
   "nbconvert_exporter": "python",
   "pygments_lexer": "ipython3",
   "version": "3.10.7"
  },
  "orig_nbformat": 4
 },
 "nbformat": 4,
 "nbformat_minor": 2
}
